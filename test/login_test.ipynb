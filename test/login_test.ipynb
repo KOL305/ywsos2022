{
 "cells": [
  {
   "cell_type": "code",
   "execution_count": 1,
   "metadata": {},
   "outputs": [],
   "source": [
    "from selenium import webdriver\n",
    "from selenium.webdriver.common.keys import Keys\n",
    "from selenium.webdriver.common.by import By\n",
    "import time\n",
    "from selenium.webdriver.chrome.service import Service\n",
    "from webdriver_manager.chrome import ChromeDriverManager\n",
    "import os\n",
    "from faker import Faker\n",
    "os.environ[\"WDM_local\"]=\"1\""
   ]
  },
  {
   "cell_type": "code",
   "execution_count": 2,
   "metadata": {},
   "outputs": [],
   "source": [
    "fake = Faker()\n",
    "class User:\n",
    "    def __init__(self, username, password):\n",
    "        self.username = username\n",
    "        self.password = password\n",
    "    def start(self):\n",
    "        self.driver = webdriver.Chrome(service=Service(ChromeDriverManager(driver_version=\"120.0.6099.129\").install()))\n",
    "        self.driver.get(\"http://localhost:5173/login\")\n",
    "        time.sleep(2)\n",
    "        assert(\"Cleanworld\" in self.driver.page_source)\n",
    "    def login(self):\n",
    "        email_field = self.driver.find_element(By.ID, \"username\")\n",
    "        email_field.send_keys(self.username)\n",
    "        pass_field = self.driver.find_element(By.ID, \"password\")\n",
    "        pass_field.send_keys(self.password)\n",
    "        login_button = self.driver.find_element(By.ID, \"login_button\")\n",
    "        login_button.click()\n",
    "        time.sleep(1)\n",
    "    def viewposts(self):\n",
    "        view_button = self.driver.find_element(By.ID, \"viewPosts\")\n",
    "        view_button.click()\n",
    "        time.sleep(5)\n",
    "        back_button = self.driver.find_element(By.ID, \"gohome\")\n",
    "        back_button.click()\n",
    "    def createpost(self):\n",
    "        post_button = self.driver.find_element(By.ID, \"postcreator\")\n",
    "        post_button.click()\n",
    "        time.sleep(2)\n",
    "        # loading for createpost page\n",
    "        title_field = self.driver.find_element(By.ID, \"title\")\n",
    "        title_field.send_keys(fake.sentence())\n",
    "        desc_field = self.driver.find_element(By.ID, \"desc\")\n",
    "        desc_field.send_keys(fake.sentences())\n",
    "        long_field = self.driver.find_element(By.ID, \"long\")\n",
    "        long_field.send_keys(str(fake.longitude()))\n",
    "        lat_field = self.driver.find_element(By.ID, \"lat\")\n",
    "        lat_field.send_keys(str(fake.latitude()))\n",
    "        submit = self.driver.find_element(By.ID, \"submit\")\n",
    "        submit.click()\n"
   ]
  },
  {
   "cell_type": "code",
   "execution_count": 3,
   "metadata": {},
   "outputs": [],
   "source": [
    "user_0 = User(\"test_user\", \"Password1!\")"
   ]
  },
  {
   "cell_type": "code",
   "execution_count": 4,
   "metadata": {},
   "outputs": [],
   "source": [
    "user_0.start()"
   ]
  },
  {
   "cell_type": "code",
   "execution_count": 5,
   "metadata": {},
   "outputs": [],
   "source": [
    "user_0.login()"
   ]
  },
  {
   "cell_type": "code",
   "execution_count": 6,
   "metadata": {},
   "outputs": [],
   "source": [
    "user_0.viewposts()"
   ]
  },
  {
   "cell_type": "code",
   "execution_count": 7,
   "metadata": {},
   "outputs": [],
   "source": [
    "user_0.createpost()"
   ]
  }
 ],
 "metadata": {
  "kernelspec": {
   "display_name": "venv",
   "language": "python",
   "name": "python3"
  },
  "language_info": {
   "codemirror_mode": {
    "name": "ipython",
    "version": 3
   },
   "file_extension": ".py",
   "mimetype": "text/x-python",
   "name": "python",
   "nbconvert_exporter": "python",
   "pygments_lexer": "ipython3",
   "version": "3.11.5"
  },
  "orig_nbformat": 4
 },
 "nbformat": 4,
 "nbformat_minor": 2
}
